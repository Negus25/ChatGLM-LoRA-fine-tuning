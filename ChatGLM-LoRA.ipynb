{
 "cells": [
  {
   "cell_type": "markdown",
   "id": "75e1b93e",
   "metadata": {},
   "source": []
  },
  {
   "cell_type": "markdown",
   "id": "e0708d4b",
   "metadata": {},
   "source": [
    "***基于MindSpore的ChatGLM模型LoRA微调***\n",
    "\n",
    "ChatGLM-6B 是一个开源的、支持中英双语的对话语言模型，基于 General Language Model (GLM) 架构，具有 62 亿参数。ChatGLM-6B 使用了和 ChatGPT 相似的技术，针对中文问答和对话进行了优化。经过约 1T 标识符的中英双语训练，辅以监督微调、反馈自助、人类反馈强化学习等技术的加持，62 亿参数的 ChatGLM-6B 已经能生成相当符合人类偏好的回答。\n",
    "\n",
    "可以使用AutoClass接口，通过模型名称获取相应的模型/tokenizer实例，并自动下载并加载权重\n",
    "from_pretrained() 接口会自动从云上下载预训练的模型，存储路径：./checkpoint_download/glm"
   ]
  },
  {
   "cell_type": "code",
   "execution_count": null,
   "id": "4ea80f2e",
   "metadata": {},
   "outputs": [],
   "source": [
    "import mindspore; mindspore.set_context(mode=0, device_id=0)\n",
    "from mindformers import AutoModel, AutoTokenizer, TextGenerationPipeline\n",
    "model = AutoModel.from_pretrained(\"glm_6b\")\n",
    "tokenizer = AutoTokenizer.from_pretrained(\"glm_6b\")"
   ]
  },
  {
   "cell_type": "markdown",
   "id": "6f666846",
   "metadata": {},
   "source": [
    "**School Math 0.25M Dataset**\n",
    "\n",
    "包含约25万条由BELLE项目生成的中文数学题数据，包含解题过程。\n",
    "注意：此数据集是由ChatGPT产生的，未经过严格校验，题目或解题过程可能包含错误。使用过程中请注意这一点\n",
    "```\n",
    "{\n",
    "  \"instruction\": \"题目：小华手里有一个装满糖果的袋子，共有12个，小明想知道里面有多少颗糖果，于是他问小华：“你手里的糖果袋子里有偶数个糖果吗？”小华回答：“有，而且多于10颗。”请问小华手里的糖果袋子里最少有几颗糖果？\",\n",
    "  \"input\": \"\",\n",
    "  \"output\": \"\\n由题目可知：小华手里的糖果袋子里有偶数个糖果；\\n又知道小华手里的糖果袋子里有多于10颗糖果。\\n因为糖果数为偶数，多于10颗，所以糖果数最小必须是12。\\n所以小华手里的糖果袋子里最少有12颗糖果。\"\n",
    "}\n",
    "```"
   ]
  },
  {
   "cell_type": "markdown",
   "id": "5b48e65f",
   "metadata": {},
   "source": [
    "**下载数据**\n",
    "\n",
    "```\n",
    "wget https://huggingface.co/datasets/BelleGroup/school_math_0.25M/resolve/main/school_math_0.25M.json\n",
    "```\n",
    "该数据是数学应用题求解任务，包含解题过程，共计约25万条。\n"
   ]
  },
  {
   "attachments": {
    "fd1d766a-be8a-4e91-a28b-7ed0adb5d009.png": {
     "image/png": "[encoded data removed]"
    }
   },
   "cell_type": "markdown",
   "id": "9a0bfa9e",
   "metadata": {},
   "source": [
    "**转换数据格式**\n",
    "\n",
    "demo选取前1000条作为验证集，其余数据作为训练集。\n",
    "![image.png](attachment:fd1d766a-be8a-4e91-a28b-7ed0adb5d009.png)\n",
    "We just add instruction and output and assign it to instruction.\n"
   ]
  },
  {
   "cell_type": "code",
   "execution_count": null,
   "id": "699f1b98",
   "metadata": {},
   "outputs": [],
   "source": [
    "!python converter.py --orig_data ./data/school_math_0.25M.json --write_data school_math_0.25M_conv.json --dataset_name bellemath\n",
    "!head -n 1000 school_math_0.25M_conv.json > belleMat-test1K.json\n",
    "!tail -n +1001 school_math_0.25M_conv.json > belleMath-train.json"
   ]
  },
  {
   "cell_type": "markdown",
   "id": "d8fd11cc",
   "metadata": {},
   "source": [
    "**数据处理**\n",
    "\n",
    "使用 adgen.py 脚本将数据集处理成mindrecord格式。\n",
    "执行命令生成训练数据集："
   ]
  },
  {
   "cell_type": "code",
   "execution_count": null,
   "id": "601d1be7",
   "metadata": {},
   "outputs": [],
   "source": [
    "!python school-math.py \\\n",
    "    --input_file belleMath-train.json \\\n",
    "    --vocab_file ice_text.model\\\n",
    "    --output_file belle-train.mindrecord \\\n",
    "    --max_source_length 64 \\\n",
    "    --max_target_length 64 \\\n",
    "    --mode train"
   ]
  },
  {
   "cell_type": "markdown",
   "id": "f72c65dd",
   "metadata": {},
   "source": [
    "执行命令生成评估数据集："
   ]
  },
  {
   "cell_type": "code",
   "execution_count": null,
   "id": "e3145ac5",
   "metadata": {},
   "outputs": [],
   "source": [
    "!python school-math.py \\\n",
    "    --input_file belleMat-test1K.json \\\n",
    "    --vocab_file ice_text.model \\\n",
    "    --output_file belle-eval.mindrecord \\\n",
    "    --max_source_length 256 \\\n",
    "    --max_target_length 256 \\\n",
    "    --mode eval"
   ]
  },
  {
   "cell_type": "markdown",
   "id": "683ce7c9",
   "metadata": {},
   "source": [
    "**将任务配置文件 run_glm_6b_lora.yaml 中的 ==== dataset config ==== 部分替换成：**\n",
    "```\n",
    "train_dataset: &train_dataset\n",
    "  data_loader:\n",
    "    type: MindDataset\n",
    "    dataset_dir: \"\"\n",
    "    shuffle: True\n",
    "  input_columns: [\"input_ids\", \"labels\", \"position_ids\", \"attention_mask\"]\n",
    "  num_parallel_workers: 8\n",
    "  python_multiprocessing: False\n",
    "  drop_remainder: True\n",
    "  batch_size: 1\n",
    "  repeat: 1\n",
    "  numa_enable: False\n",
    "  prefetch_size: 1\n",
    "  seed: 0\n",
    "\n",
    "train_dataset_task:\n",
    "  type: CausalLanguageModelDataset\n",
    "  dataset_config: *train_dataset\n",
    "\n",
    "eval_dataset: &eval_dataset\n",
    "  data_loader:\n",
    "    type: MindDataset\n",
    "    dataset_dir: \"\"\n",
    "    shuffle: True\n",
    "  input_columns: [\"input_ids\", \"labels\"]\n",
    "  num_parallel_workers: 8\n",
    "  python_multiprocessing: False\n",
    "  drop_remainder: True\n",
    "  batch_size: 1\n",
    "  repeat: 1\n",
    "  numa_enable: False\n",
    "  prefetch_size: 1\n",
    "  seed: 0\n",
    "\n",
    "eval_dataset_task:\n",
    "  type: CausalLanguageModelDataset\n",
    "  dataset_config: *eval_dataset\n",
    "```"
   ]
  },
  {
   "cell_type": "markdown",
   "id": "a9ace3ab",
   "metadata": {},
   "source": [
    "**LoRA低参微调**"
   ]
  },
  {
   "cell_type": "code",
   "execution_count": 1,
   "id": "de0f8dbd",
   "metadata": {},
   "outputs": [],
   "source": [
    "use_parallel=False\n",
    "task='text_generation'\n",
    "model_type='glm_6b_lora'\n",
    "checkpoint_path='./checkpoint_download/glm/glm_6b.ckpt'\n",
    "train_dataset='belle-train.mindrecord'\n",
    "eval_dataset='belle-eval.mindrecord'\n",
    "predict_data='你好'\n",
    "dp=1 \n",
    "mp=1\n",
    "pp=1\n",
    "micro_size=1\n",
    "op=False"
   ]
  },
  {
   "cell_type": "code",
   "execution_count": null,
   "id": "85be2712",
   "metadata": {},
   "outputs": [],
   "source": [
    "from mindformers import Trainer, TrainingArguments\n",
    "from mindformers import init_context, ContextConfig, ParallelContextConfig\n",
    "\n",
    "def context_init(use_parallel=False, optimizer_parallel=False):\n",
    "    \"\"\"init context for mindspore.\"\"\"\n",
    "    context_config = ContextConfig(mode=0, device_target=\"Ascend\", device_id=0)\n",
    "    parallel_config = None\n",
    "    if use_parallel:\n",
    "        parallel_config = ParallelContextConfig(parallel_mode='SEMI_AUTO_PARALLEL',\n",
    "                                                gradients_mean=False,\n",
    "                                                enable_parallel_optimizer=optimizer_parallel,\n",
    "                                                full_batch=True)\n",
    "    rank_id, device_num = init_context(use_parallel=use_parallel,\n",
    "                                       context_config=context_config,\n",
    "                                       parallel_config=parallel_config)\n",
    "# 环境初始化\n",
    "context_init(use_parallel, op)\n",
    "# 训练超参数定义\n",
    "yaml_path = 'run_glm_6b_lora.yaml' #we edit the yaml file to set the hyperparameters, check the run_glm_6b_lora.yaml file for more info.\n",
    "#training_args = TrainingArguments(num_train_epochs=1, batch_size=batch_size, learning_rate=5e-5, warmup_steps=100, sink_mode=True, sink_size=4)\n",
    "# 定义任务，预先准备好相应数据集\n",
    "task = Trainer(task=task, model=model_type, args=yaml_path, train_dataset=train_dataset, eval_dataset=eval_dataset)\n",
    "task.set_parallel_config(data_parallel=dp,\n",
    "                         model_parallel=mp,\n",
    "                         pipeline_stage=pp,\n",
    "                         micro_batch_num=micro_size)"
   ]
  },
  {
   "cell_type": "code",
   "execution_count": null,
   "id": "a2efbc59",
   "metadata": {
    "collapsed": true,
    "jupyter": {
     "outputs_hidden": true
    }
   },
   "outputs": [],
   "source": [
    "task.finetune(checkpoint_path)"
   ]
  },
  {
   "cell_type": "markdown",
   "id": "854aea6d",
   "metadata": {},
   "source": [
    "推理"
   ]
  },
  {
   "cell_type": "code",
   "execution_count": 3,
   "id": "910703b7",
   "metadata": {},
   "outputs": [
    {
     "name": "stdout",
     "output_type": "stream",
     "text": [
      "2024-01-22 20:23:37,419 - mindformers[mindformers/generation/text_generator.py:1105] - WARNING - When do_sample is set to False, top_k will be set to 1 and top_p will be set to 0, making them inactive.\n",
      "2024-01-22 20:23:37,424 - mindformers[mindformers/generation/text_generator.py:1109] - INFO - Generation Config is: {'max_length': 2048, 'max_new_tokens': None, 'num_beams': 1, 'do_sample': False, 'use_past': True, 'temperature': 1.0, 'top_k': 0, 'top_p': 1.0, 'repetition_penalty': 1.0, 'encoder_repetition_penalty': 1.0, 'renormalize_logits': False, 'pad_token_id': 3, 'bos_token_id': 130004, 'eos_token_id': 130005, '_from_model_config': True}\n",
      "2024-01-22 20:23:37,426 - mindformers[mindformers/generation/text_generator.py:176] - INFO - The generation mode will be **GREEDY_SEARCH**.\n",
      "2024-01-22 20:23:37,430 - mindformers[mindformers/generation/text_generator.py:309] - WARNING - max_length 2048 can not exceeds model seq_length 512, set max_length = seq_length.\n",
      "2024-01-22 20:23:38,075 - mindformers[mindformers/generation/text_generator.py:478] - INFO - total time: 0.6454319953918457 s; generated tokens: 9 tokens; generate speed: 13.944149134621139 tokens/s\n",
      "generate speed: 19.37 tokens/s\n",
      "你好 你好！请问有什么需要帮助的吗？\n",
      "2024-01-22 20:23:38,092 - mindformers[mindformers/generation/text_generator.py:1105] - WARNING - When do_sample is set to False, top_k will be set to 1 and top_p will be set to 0, making them inactive.\n",
      "2024-01-22 20:23:38,094 - mindformers[mindformers/generation/text_generator.py:1109] - INFO - Generation Config is: {'max_length': 2048, 'max_new_tokens': None, 'num_beams': 1, 'do_sample': False, 'use_past': True, 'temperature': 1.0, 'top_k': 0, 'top_p': 1.0, 'repetition_penalty': 1.0, 'encoder_repetition_penalty': 1.0, 'renormalize_logits': False, 'pad_token_id': 3, 'bos_token_id': 130004, 'eos_token_id': 130005, '_from_model_config': True}\n",
      "2024-01-22 20:23:38,096 - mindformers[mindformers/generation/text_generator.py:176] - INFO - The generation mode will be **GREEDY_SEARCH**.\n",
      "2024-01-22 20:23:38,100 - mindformers[mindformers/generation/text_generator.py:309] - WARNING - max_length 2048 can not exceeds model seq_length 512, set max_length = seq_length.\n",
      "2024-01-22 20:23:41,319 - mindformers[mindformers/generation/text_generator.py:478] - INFO - total time: 3.219697952270508 s; generated tokens: 63 tokens; generate speed: 19.567052852138772 tokens/s\n",
      "generate speed: 32.12 tokens/s\n",
      "今天小明骑自行车从家到学校用了20分钟，回家用了25分钟。如果小明在上学和回家的路上的速度一样，那么他从家到学校的距离是学校到家的距离的百分之几？ \n",
      "小明从家到学校的距离为：\n",
      "d = 20 × 60 + 25 × 60 = 1200 米\n",
      "小明从家到学校的速度为：\n",
      "v = d / t = 1200 / 20\n"
     ]
    }
   ],
   "source": [
    "import time\n",
    "import mindspore as ms\n",
    "import numpy as np\n",
    "import argparse\n",
    "from mindformers.models.glm import GLMConfig, GLMChatModel\n",
    "from mindformers.models.glm.chatglm_6b_tokenizer import ChatGLMTokenizer\n",
    "from mindformers.models.glm.glm_processor import process_response\n",
    "from mindformers.pet.pet_config import LoraConfig\n",
    "from mindformers.pet import get_pet_model\n",
    "\n",
    "\n",
    "ms.set_context(mode=ms.GRAPH_MODE, device_target=\"Ascend\", device_id=0)\n",
    "\n",
    "pet_config = LoraConfig(\n",
    "    lora_rank=8,\n",
    "    lora_alpha=32,\n",
    "    lora_dropout=0.1,\n",
    "    target_modules = \".*query_key_value*\"\n",
    ")\n",
    "config = GLMConfig(\n",
    "    position_encoding_2d=True,\n",
    "    use_past=True,\n",
    "    is_sample_acceleration=True,\n",
    ")\n",
    "\n",
    "checkpoint_path = './output/checkpoint/rank_0/glm-6b-lora_rank_0-1625_4.ckpt'\n",
    "vocab_path = 'ice_text.model'\n",
    "\n",
    "\n",
    "model = GLMChatModel(config)\n",
    "#config.pet_config = pet_config\n",
    "model = get_pet_model(model, pet_config)\n",
    "\n",
    "ms.load_checkpoint(checkpoint_path, model)\n",
    "tokenizer = ChatGLMTokenizer(vocab_path)\n",
    "\n",
    "inputs = [\"你好\",\n",
    "          \"今天小明骑自行车从家到学校用了20分钟，回家用了25分钟。如果小明在上学和回家的路上的速度一样，那么他从家到学校的距离是学校到家的距离的百分之几？\"]\n",
    "\n",
    "for query in inputs:\n",
    "    input_ids = tokenizer(query)['input_ids']\n",
    "\n",
    "    start_time = time.time()\n",
    "    outputs = model.generate(input_ids, max_length=config.max_decode_length, do_sample=False)\n",
    "    end_time = time.time()\n",
    "    print(f'generate speed: {outputs[0].shape[0]/(end_time-start_time):.2f} tokens/s')\n",
    "\n",
    "    response = tokenizer.decode(outputs)\n",
    "    response = process_response(response[0])\n",
    "    print(response)"
   ]
  },
  {
   "cell_type": "code",
   "execution_count": null,
   "id": "fc6a8d8b",
   "metadata": {},
   "outputs": [],
   "source": []
  }
 ],
 "metadata": {
  "kernelspec": {
   "display_name": "Python 3 (ipykernel)",
   "language": "python",
   "name": "python3"
  },
  "language_info": {
   "codemirror_mode": {
    "name": "ipython",
    "version": 3
   },
   "file_extension": ".py",
   "mimetype": "text/x-python",
   "name": "python",
   "nbconvert_exporter": "python",
   "pygments_lexer": "ipython3",
   "version": "3.9.18"
  }
 },
 "nbformat": 4,
 "nbformat_minor": 5
}
